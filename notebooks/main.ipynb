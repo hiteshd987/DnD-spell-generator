{
 "cells": [
  {
   "cell_type": "code",
   "execution_count": 6,
   "id": "525c7d4a-38ac-42c0-a024-eee4398d3511",
   "metadata": {},
   "outputs": [
    {
     "name": "stdout",
     "output_type": "stream",
     "text": [
      "Project root: /Users/hitesh/Documents/dnd-spell-generator\n",
      "Scripts dir: /Users/hitesh/Documents/dnd-spell-generator/scripts\n",
      "Data dir: /Users/hitesh/Documents/dnd-spell-generator/data\n",
      "Models dir: /Users/hitesh/Documents/dnd-spell-generator/models\n"
     ]
    }
   ],
   "source": [
    "# --- 1. Setup ---\n",
    "import os\n",
    "import sys\n",
    "from pathlib import Path\n",
    "\n",
    "PROJECT_ROOT = Path.cwd().parent   # notebooks/ → project root\n",
    "SCRIPTS_DIR = PROJECT_ROOT / \"scripts\"\n",
    "DATA_DIR = PROJECT_ROOT / \"data\"\n",
    "MODELS_DIR = PROJECT_ROOT / \"models\"\n",
    "\n",
    "# Add scripts folder to path to import/run them\n",
    "sys.path.append(str(SCRIPTS_DIR))\n",
    "\n",
    "print(\"Project root:\", PROJECT_ROOT)\n",
    "print(\"Scripts dir:\", SCRIPTS_DIR)\n",
    "print(\"Data dir:\", DATA_DIR)\n",
    "print(\"Models dir:\", MODELS_DIR)\n"
   ]
  },
  {
   "cell_type": "code",
   "execution_count": null,
   "id": "f850d52d-795c-42c0-90a8-81c66c4eba0e",
   "metadata": {},
   "outputs": [],
   "source": [
    "# --- 2. Create Dataset (fetch SRD spells + rationales) ---\n",
    "!python {SCRIPTS_DIR}/create_dataset.py\n"
   ]
  },
  {
   "cell_type": "code",
   "execution_count": 8,
   "id": "3895ab59-7f1e-4134-aca5-4fe096cc0d7e",
   "metadata": {},
   "outputs": [
    {
     "name": "stdout",
     "output_type": "stream",
     "text": [
      "Loaded 150 spells from '/Users/hitesh/Documents/dnd-spell-generator/data/dataset_open5e.json' (from list).\n",
      "Loaded 41 spells from '/Users/hitesh/Documents/dnd-spell-generator/data/homebrew_spells.json' (from 'spells' key).\n",
      "✨ Combined and de-duplicated dataset contains 159 unique spells.\n",
      "Converting spells to Llama 3 chat format...\n",
      " Saved 159 formatted entries to '/Users/hitesh/Documents/dnd-spell-generator/data/formatted_dnd_spells.jsonl'\n"
     ]
    }
   ],
   "source": [
    "# --- 3. Fetch + Format (combine with homebrew, format into JSONL) ---\n",
    "!python {SCRIPTS_DIR}/fetch.py\n"
   ]
  },
  {
   "cell_type": "code",
   "execution_count": null,
   "id": "9117a376-8386-425d-84f6-feb84587e029",
   "metadata": {},
   "outputs": [],
   "source": [
    "# --- 4. Fine-Tune (LLaMA + LoRA) ---\n",
    "!python {SCRIPTS_DIR}/finetune.py\n"
   ]
  },
  {
   "cell_type": "code",
   "execution_count": null,
   "id": "a721d171-8c44-4bcf-9287-4fbbc0fd8f46",
   "metadata": {},
   "outputs": [],
   "source": [
    "# --- 5. Generate (use fine-tuned model for creative spell generation) ---\n",
    "!python {SCRIPTS_DIR}/generate.py\n"
   ]
  },
  {
   "cell_type": "code",
   "execution_count": null,
   "id": "14a41326-4aca-456c-a226-3c0becfb4b96",
   "metadata": {},
   "outputs": [],
   "source": []
  }
 ],
 "metadata": {
  "kernelspec": {
   "display_name": "Python [conda env:base] *",
   "language": "python",
   "name": "conda-base-py"
  },
  "language_info": {
   "codemirror_mode": {
    "name": "ipython",
    "version": 3
   },
   "file_extension": ".py",
   "mimetype": "text/x-python",
   "name": "python",
   "nbconvert_exporter": "python",
   "pygments_lexer": "ipython3",
   "version": "3.12.7"
  }
 },
 "nbformat": 4,
 "nbformat_minor": 5
}
